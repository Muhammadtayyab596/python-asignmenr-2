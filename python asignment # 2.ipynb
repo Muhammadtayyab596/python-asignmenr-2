{
 "cells": [
  {
   "cell_type": "code",
   "execution_count": 23,
   "metadata": {},
   "outputs": [
    {
     "name": "stdout",
     "output_type": "stream",
     "text": [
      "Enter The Number of Subject 1 = 90\n",
      "Enter The Number of Subject 2 = 89\n",
      "Enter The Number of Subject 3 = 78\n",
      "Enter The Number of Subject 4 = 98\n",
      "Enter The NUmber of Subject 5 = 90\n",
      "445\n",
      "Your Grade Is A+\n"
     ]
    }
   ],
   "source": [
    "sub1 = int(input(\"Enter The Number of Subject 1 = \"))\n",
    "sub2 = int(input(\"Enter The Number of Subject 2 = \"))\n",
    "sub3 = int(input(\"Enter The Number of Subject 3 = \"))\n",
    "sub4 = int(input(\"Enter The Number of Subject 4 = \"))\n",
    "sub5 = int(input(\"Enter The NUmber of Subject 5 = \"))\n",
    "sum = sub1 + sub2 + sub3 + sub4 + sub5;\n",
    "print(sum)\n",
    "per = (sum*100)/500;\n",
    "if per>=80 and per<=100:\n",
    "    print(\"Your Grade Is A+\")\n",
    "elif per>=70 and per<=79:\n",
    "    print(\"Your Grade Is A\")\n",
    "elif per>=60 and per<=69:\n",
    "    print(\"Your Grade Is B\")\n",
    "elif per>=50 and per<=59:\n",
    "    print(\"Your Grade Is C\")\n",
    "elif per>=33 and per<=49:\n",
    "    print(\"Your Grade Is D\")\n",
    "else:\n",
    "    print(\"You are Fail\")\n"
   ]
  },
  {
   "cell_type": "markdown",
   "metadata": {},
   "source": [
    "\n",
    "\n",
    "\n"
   ]
  },
  {
   "cell_type": "code",
   "execution_count": 25,
   "metadata": {},
   "outputs": [
    {
     "name": "stdout",
     "output_type": "stream",
     "text": [
      "Enter a Number = 5\n",
      "This is Odd Number\n"
     ]
    }
   ],
   "source": [
    "x = int(input(\"Enter a Number = \"))\n",
    "if x%2==0:\n",
    "    print(\"This is Even Number\")\n",
    "else:\n",
    "    print(\"This is Odd Number\")"
   ]
  },
  {
   "cell_type": "code",
   "execution_count": 36,
   "metadata": {},
   "outputs": [
    {
     "name": "stdout",
     "output_type": "stream",
     "text": [
      "leneght of list is 4\n",
      "lenght of list is  6\n"
     ]
    }
   ],
   "source": [
    "list1 , list2 = [2,3,4,5], [2,6,7,9,0,8]\n",
    "print(\"leneght of list is\",len(list1));\n",
    "print(\"lenght of list is \",len(list2));"
   ]
  },
  {
   "cell_type": "code",
   "execution_count": 42,
   "metadata": {},
   "outputs": [
    {
     "name": "stdout",
     "output_type": "stream",
     "text": [
      "Sum of all elements in given list:  74\n"
     ]
    }
   ],
   "source": [
    "\n",
    "total = 0  \n",
    "list1 = [11, 5, 17, 18, 23]  \n",
    "for ele in range(0, len(list1)): \n",
    "    total = total + list1[ele] \n",
    "print(\"Sum of all elements in given list: \", total)"
   ]
  },
  {
   "cell_type": "code",
   "execution_count": 44,
   "metadata": {},
   "outputs": [
    {
     "name": "stdout",
     "output_type": "stream",
     "text": [
      "Largest element is: 99\n"
     ]
    }
   ],
   "source": [
    "list1 = [10, 20, 4, 45, 99] \n",
    "print(\"Largest element is:\", max(list1))\n"
   ]
  },
  {
   "cell_type": "code",
   "execution_count": null,
   "metadata": {},
   "outputs": [],
   "source": [
    "\n"
   ]
  },
  {
   "cell_type": "code",
   "execution_count": null,
   "metadata": {},
   "outputs": [],
   "source": []
  },
  {
   "cell_type": "code",
   "execution_count": null,
   "metadata": {},
   "outputs": [],
   "source": []
  }
 ],
 "metadata": {
  "kernelspec": {
   "display_name": "Python 3",
   "language": "python",
   "name": "python3"
  },
  "language_info": {
   "codemirror_mode": {
    "name": "ipython",
    "version": 3
   },
   "file_extension": ".py",
   "mimetype": "text/x-python",
   "name": "python",
   "nbconvert_exporter": "python",
   "pygments_lexer": "ipython3",
   "version": "3.7.4"
  }
 },
 "nbformat": 4,
 "nbformat_minor": 2
}
